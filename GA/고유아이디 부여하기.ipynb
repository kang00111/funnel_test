{
 "cells": [
  {
   "cell_type": "code",
   "execution_count": 1,
   "metadata": {},
   "outputs": [],
   "source": [
    "import os\n",
    "import json\n",
    "import pandas as pd\n",
    "\n",
    "\n",
    "# Excel 파일들이 위치한 디렉토리 경로\n",
    "directory_path = 'C:/Users/ch.kang/OneDrive - 클리 주식회사/문서 - 클리주식회사/000_Routine_마이세컨플레이스/02. IT Platform&Data/01_콘텐츠성과측정/01_DailyRawdata'\n",
    "\n",
    "# ga로 시작하는 모든 Excel 파일 목록을 오름차순으로 정렬\n",
    "excel_files = sorted([file for file in os.listdir(directory_path) if file.startswith('ga') and file.endswith('.xlsx')])\n",
    "\n",
    "# 각 파일을 데이터프레임으로 불러와서 합치기\n",
    "all_data_frames = []  # 불러온 데이터프레임을 저장할 리스트\n",
    "\n",
    "for file in excel_files:\n",
    "    file_path = os.path.join(directory_path, file)\n",
    "    # 모든 컬럼의 데이터 타입을 문자열로 지정하여 Excel 파일 불러오기\n",
    "    df = pd.read_excel(file_path, dtype=str)\n",
    "    all_data_frames.append(df)\n",
    "\n",
    "# 모든 데이터프레임을 단일 데이터프레임으로 합치기\n",
    "combined_df = pd.concat(all_data_frames, ignore_index=True)\n",
    "\n",
    "# 여기서 combined_df를 사용하여 추가 작업 수행\n"
   ]
  },
  {
   "cell_type": "code",
   "execution_count": 2,
   "metadata": {},
   "outputs": [],
   "source": [
    "df = combined_df"
   ]
  },
  {
   "cell_type": "code",
   "execution_count": 3,
   "metadata": {},
   "outputs": [
    {
     "name": "stdout",
     "output_type": "stream",
     "text": [
      "170824\n",
      "Index(['아이디', '시간', '이벤트명', '페이지제목', '정규화링크', '원래링크', '소스', '매체', '캠페인', '컨텐츠',\n",
      "       '검색어', 'engagement_time', '체류시간', '전환여부', '익명아이디'],\n",
      "      dtype='object')\n"
     ]
    }
   ],
   "source": [
    "print(len(df))\n",
    "print(df.columns)"
   ]
  },
  {
   "cell_type": "code",
   "execution_count": 4,
   "metadata": {},
   "outputs": [
    {
     "name": "stdout",
     "output_type": "stream",
     "text": [
      "Warning: Invalid JSON format in C:\\Users\\ch.kang\\OneDrive - 클리 주식회사\\문서 - 클리주식회사\\000_Routine_마이세컨플레이스\\02. IT Platform&Data\\01_콘텐츠성과측정\\02_ConvertedData\\id_mapping.json. Creating new mapping.\n",
      "           고유아이디                    아이디                                 익명아이디\n",
      "0       g-000001  1038925075.1705314572                                   NaN\n",
      "1       g-000001  1038925075.1705314572                                   NaN\n",
      "2       g-000002  1079045696.1705309555                                   NaN\n",
      "3       g-000002  1079045696.1705309555                                   NaN\n",
      "4       g-000002  1079045696.1705309555                                   NaN\n",
      "...          ...                    ...                                   ...\n",
      "170819  g-030300   993475916.1713917639  6b2a6f99-a3ee-4ef3-8cbc-3e87d1fb33bd\n",
      "170820  g-030300   993475916.1713917639  6b2a6f99-a3ee-4ef3-8cbc-3e87d1fb33bd\n",
      "170821  g-030300   993475916.1713917639  6b2a6f99-a3ee-4ef3-8cbc-3e87d1fb33bd\n",
      "170822  g-030300   993475916.1713917639  6b2a6f99-a3ee-4ef3-8cbc-3e87d1fb33bd\n",
      "170823  g-030300   993475916.1713917639  6b2a6f99-a3ee-4ef3-8cbc-3e87d1fb33bd\n",
      "\n",
      "[170824 rows x 3 columns]\n"
     ]
    }
   ],
   "source": [
    "class UniqueIDGenerator:\n",
    "    def __init__(self, mapping_file):\n",
    "        self.mapping_file = mapping_file\n",
    "        self.id_map = self.load_mapping()\n",
    "        self.unique_id_counter = self.get_unique_id_counter()\n",
    "\n",
    "    def load_mapping(self):\n",
    "        if os.path.exists(self.mapping_file):\n",
    "            try:\n",
    "                with open(self.mapping_file, 'r') as f:\n",
    "                    return json.load(f)\n",
    "            except json.JSONDecodeError:\n",
    "                print(f\"Warning: Invalid JSON format in {self.mapping_file}. Creating new mapping.\")\n",
    "        return {}\n",
    "\n",
    "    def get_unique_id_counter(self):\n",
    "        max_id = 0\n",
    "        for id_str in self.id_map.values():\n",
    "            if id_str.startswith('g-'):\n",
    "                try:\n",
    "                    id_num = int(id_str.split('-')[1])\n",
    "                    max_id = max(max_id, id_num)\n",
    "                except ValueError:\n",
    "                    pass\n",
    "        return max_id + 1\n",
    "\n",
    "    def save_mapping(self):\n",
    "        with open(self.mapping_file, 'w') as f:\n",
    "            json.dump(self.id_map, f, indent=4)\n",
    "\n",
    "    def generate_unique_id(self, username, anonymous_id):\n",
    "        if pd.isnull(anonymous_id):\n",
    "            if username in self.id_map:\n",
    "                return self.id_map[username]\n",
    "            else:\n",
    "                unique_id = f\"g-{self.unique_id_counter:06d}\"\n",
    "                self.unique_id_counter += 1\n",
    "                self.id_map[username] = unique_id\n",
    "                self.id_map[unique_id] = None\n",
    "                return unique_id\n",
    "        else:\n",
    "            if username in self.id_map:\n",
    "                return self.id_map[username]\n",
    "            elif anonymous_id in self.id_map.values():\n",
    "                for key, value in self.id_map.items():\n",
    "                    if value == anonymous_id:\n",
    "                        return key\n",
    "            else:\n",
    "                unique_id = f\"g-{self.unique_id_counter:06d}\"\n",
    "                self.unique_id_counter += 1\n",
    "                self.id_map[username] = unique_id\n",
    "                self.id_map[unique_id] = anonymous_id\n",
    "                return unique_id\n",
    "\n",
    "# JSON 파일 경로\n",
    "mapping_file = r'C:\\Users\\ch.kang\\OneDrive - 클리 주식회사\\문서 - 클리주식회사\\000_Routine_마이세컨플레이스\\02. IT Platform&Data\\01_콘텐츠성과측정\\02_ConvertedData\\id_mapping.json'\n",
    "\n",
    "# UniqueIDGenerator 인스턴스 생성\n",
    "generator = UniqueIDGenerator(mapping_file)\n",
    "\n",
    "# 고유 아이디 생성 및 데이터프레임에 추가\n",
    "df['고유아이디'] = df.apply(lambda row: generator.generate_unique_id(row['아이디'], row['익명아이디']), axis=1)\n",
    "\n",
    "# 결과를 JSON 파일로 저장\n",
    "generator.save_mapping()\n",
    "\n",
    "# 결과 확인\n",
    "print(df[['고유아이디', '아이디', '익명아이디']])\n"
   ]
  },
  {
   "cell_type": "code",
   "execution_count": 5,
   "metadata": {},
   "outputs": [
    {
     "name": "stderr",
     "output_type": "stream",
     "text": [
      "C:\\Users\\ch.kang\\AppData\\Local\\Temp\\ipykernel_15908\\787139387.py:12: SettingWithCopyWarning: \n",
      "A value is trying to be set on a copy of a slice from a DataFrame.\n",
      "Try using .loc[row_indexer,col_indexer] = value instead\n",
      "\n",
      "See the caveats in the documentation: https://pandas.pydata.org/pandas-docs/stable/user_guide/indexing.html#returning-a-view-versus-a-copy\n",
      "  filtered_df['이름'] = filtered_df['고유아이디'].map(value_name_mapping)\n"
     ]
    }
   ],
   "source": [
    "filter_values = ['g-021091', 'g-000193', 'g-001151', 'g-001540', 'g-000293', 'g-002308']\n",
    "value_name_mapping = {\n",
    "    'g-021091': '김민좌',\n",
    "    'g-000193': '최선하',\n",
    "    'g-001151': '전진',\n",
    "    'g-001540': '이예슬',\n",
    "    'g-000293': '양지은',\n",
    "    'g-002308': '소주희'\n",
    "}\n",
    "filtered_df = df[df['고유아이디'].isin(filter_values)]\n",
    "# 새로운 열 추가\n",
    "filtered_df['이름'] = filtered_df['고유아이디'].map(value_name_mapping)\n",
    "# filtered_df.to_excel(\"투어신청자_0406-0414.xlsx\", index=False)\n"
   ]
  }
 ],
 "metadata": {
  "kernelspec": {
   "display_name": "venv",
   "language": "python",
   "name": "python3"
  },
  "language_info": {
   "codemirror_mode": {
    "name": "ipython",
    "version": 3
   },
   "file_extension": ".py",
   "mimetype": "text/x-python",
   "name": "python",
   "nbconvert_exporter": "python",
   "pygments_lexer": "ipython3",
   "version": "3.12.3"
  }
 },
 "nbformat": 4,
 "nbformat_minor": 2
}
